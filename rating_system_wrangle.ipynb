{
 "cells": [
  {
   "cell_type": "markdown",
   "metadata": {},
   "source": [
    "# Data Cleaning and Tiding For Rating System Project"
   ]
  },
  {
   "cell_type": "code",
   "execution_count": 1,
   "metadata": {},
   "outputs": [],
   "source": [
    "import numpy as np\n",
    "import pandas as pd"
   ]
  },
  {
   "cell_type": "markdown",
   "metadata": {},
   "source": [
    "## Gathering Data"
   ]
  },
  {
   "cell_type": "markdown",
   "metadata": {},
   "source": [
    "### Connect to Database"
   ]
  },
  {
   "cell_type": "code",
   "execution_count": 2,
   "metadata": {},
   "outputs": [],
   "source": [
    "# Create SQLAlchemy Engine\n",
    "from sqlalchemy import create_engine\n",
    "# Change the value of CONNECTION_STRING to your Postgresql connection string\n",
    "CONNECTION_STRING = ''\n",
    "engine = create_engine(CONNECTION_STRING)"
   ]
  },
  {
   "cell_type": "markdown",
   "metadata": {},
   "source": [
    "### Read scrapped data into a pandas DataFrame"
   ]
  },
  {
   "cell_type": "code",
   "execution_count": 3,
   "metadata": {},
   "outputs": [],
   "source": [
    "df = pd.read_sql('SELECT * FROM scraped;', engine)"
   ]
  },
  {
   "cell_type": "markdown",
   "metadata": {},
   "source": [
    "## Assessing Data"
   ]
  },
  {
   "cell_type": "code",
   "execution_count": 4,
   "metadata": {},
   "outputs": [
    {
     "name": "stdout",
     "output_type": "stream",
     "text": [
      "<class 'pandas.core.frame.DataFrame'>\n",
      "RangeIndex: 143 entries, 0 to 142\n",
      "Data columns (total 10 columns):\n",
      " #   Column               Non-Null Count  Dtype \n",
      "---  ------               --------------  ----- \n",
      " 0   id                   143 non-null    int64 \n",
      " 1   image_urls           143 non-null    object\n",
      " 2   link                 143 non-null    object\n",
      " 3   title                143 non-null    object\n",
      " 4   rating               143 non-null    object\n",
      " 5   no_of_reviews        143 non-null    object\n",
      " 6   description          143 non-null    object\n",
      " 7   comments             143 non-null    object\n",
      " 8   rating_distribution  143 non-null    object\n",
      " 9   features             143 non-null    object\n",
      "dtypes: int64(1), object(9)\n",
      "memory usage: 11.3+ KB\n"
     ]
    },
    {
     "data": {
      "text/html": [
       "<div>\n",
       "<style scoped>\n",
       "    .dataframe tbody tr th:only-of-type {\n",
       "        vertical-align: middle;\n",
       "    }\n",
       "\n",
       "    .dataframe tbody tr th {\n",
       "        vertical-align: top;\n",
       "    }\n",
       "\n",
       "    .dataframe thead th {\n",
       "        text-align: right;\n",
       "    }\n",
       "</style>\n",
       "<table border=\"1\" class=\"dataframe\">\n",
       "  <thead>\n",
       "    <tr style=\"text-align: right;\">\n",
       "      <th></th>\n",
       "      <th>id</th>\n",
       "      <th>image_urls</th>\n",
       "      <th>link</th>\n",
       "      <th>title</th>\n",
       "      <th>rating</th>\n",
       "      <th>no_of_reviews</th>\n",
       "      <th>description</th>\n",
       "      <th>comments</th>\n",
       "      <th>rating_distribution</th>\n",
       "      <th>features</th>\n",
       "    </tr>\n",
       "  </thead>\n",
       "  <tbody>\n",
       "    <tr>\n",
       "      <th>22</th>\n",
       "      <td>23</td>\n",
       "      <td>https://m.media-amazon.com/images/I/910A6B1Sa4...</td>\n",
       "      <td>https://www.amazon.com/Toshiba-HDTB420XK3AA-Ca...</td>\n",
       "      <td>Toshiba (HDTB420XK3AA) Canvio Basics 2TB Porta...</td>\n",
       "      <td>4.7 out of 5 stars</td>\n",
       "      <td>24,701</td>\n",
       "      <td>Back to results                     1TB2TB4TBP...</td>\n",
       "      <td>\\nlibrarian's daughter\\n1.0 out of 5 stars\\n\\n...</td>\n",
       "      <td>5 stars represent 84% of rating 4 stars repres...</td>\n",
       "      <td>\\nPortability   4.7\\nEasy to install   4.7\\nEa...</td>\n",
       "    </tr>\n",
       "    <tr>\n",
       "      <th>101</th>\n",
       "      <td>102</td>\n",
       "      <td>https://m.media-amazon.com/images/I/61YyzKD24d...</td>\n",
       "      <td>https://www.amazon.com/AMD-Processor-Wraith-St...</td>\n",
       "      <td>AMD Ryzen 5 2600 Processor with Wraith Stealth...</td>\n",
       "      <td>4.8 out of 5 stars</td>\n",
       "      <td>16,769</td>\n",
       "      <td>Back to results                     VIDEO Proc...</td>\n",
       "      <td>\\nTiny Giant \\n5.0 out of 5 stars\\n\\n  Lets ma...</td>\n",
       "      <td>5 stars represent 88% of rating 4 stars repres...</td>\n",
       "      <td>\\nValue for money   4.8\\nStability   4.7\\nEasy...</td>\n",
       "    </tr>\n",
       "    <tr>\n",
       "      <th>63</th>\n",
       "      <td>60</td>\n",
       "      <td>https://m.media-amazon.com/images/I/91K9SyGiyz...</td>\n",
       "      <td>https://www.amazon.com/Acer-R240HY-bidx-23-8-I...</td>\n",
       "      <td>Acer R240HY bidx 23.8-Inch IPS HDMI DVI VGA (1...</td>\n",
       "      <td>4.6 out of 5 stars</td>\n",
       "      <td>9,819</td>\n",
       "      <td>Back to results                     VIDEO 21.5...</td>\n",
       "      <td>\\nRayna\\n5.0 out of 5 stars\\n\\n  I bought two ...</td>\n",
       "      <td>5 stars represent 79% of rating 4 stars repres...</td>\n",
       "      <td>\\nBrightness   4.4\\nPicture quality   4.4\\nQua...</td>\n",
       "    </tr>\n",
       "    <tr>\n",
       "      <th>89</th>\n",
       "      <td>90</td>\n",
       "      <td>https://m.media-amazon.com/images/I/91vw9DRl4K...</td>\n",
       "      <td>https://www.amazon.com/Sceptre-DisplayPort-Edg...</td>\n",
       "      <td>Sceptre Curved 27\" Gaming Monitor up to 185Hz ...</td>\n",
       "      <td>4.7 out of 5 stars</td>\n",
       "      <td>358</td>\n",
       "      <td>Back to results                     24\" Curved...</td>\n",
       "      <td>\\nMaddok\\n5.0 out of 5 stars\\n\\n  I've played ...</td>\n",
       "      <td>5 stars represent 83% of rating 4 stars repres...</td>\n",
       "      <td>\\nSheerness   4.9\\nThickness   4.8\\nFor gaming...</td>\n",
       "    </tr>\n",
       "    <tr>\n",
       "      <th>52</th>\n",
       "      <td>51</td>\n",
       "      <td>https://m.media-amazon.com/images/I/61su-fwFdR...</td>\n",
       "      <td>https://www.amazon.com/Microphone-NexiGo-Compu...</td>\n",
       "      <td>1080P Web Camera, HD Webcam with Microphone &amp; ...</td>\n",
       "      <td>4.4 out of 5 stars</td>\n",
       "      <td>5,946</td>\n",
       "      <td>Back to results                     VIDEO 【Ful...</td>\n",
       "      <td>\\nstephen\\n5.0 out of 5 stars\\n\\n  ok, since C...</td>\n",
       "      <td>5 stars represent 65% of rating 4 stars repres...</td>\n",
       "      <td>\\nEasy to install   4.6\\nAuto focus   4.3\\nCam...</td>\n",
       "    </tr>\n",
       "    <tr>\n",
       "      <th>118</th>\n",
       "      <td>119</td>\n",
       "      <td>https://m.media-amazon.com/images/I/71LZpZrvYb...</td>\n",
       "      <td>https://www.amazon.com/Lenovo-Chromebook-i3-10...</td>\n",
       "      <td>Plustek Photo Scanner - ephoto Z300, Scan 4x6 ...</td>\n",
       "      <td>4.5 out of 5 stars</td>\n",
       "      <td>1,214</td>\n",
       "      <td>Back to results                      Make sure...</td>\n",
       "      <td>\\nKingsman\\n5.0 out of 5 stars\\n\\n  Best bang-...</td>\n",
       "      <td>5 stars represent 75% of rating 4 stars repres...</td>\n",
       "      <td>\\nValue for money   4.9\\nQuality of material  ...</td>\n",
       "    </tr>\n",
       "    <tr>\n",
       "      <th>110</th>\n",
       "      <td>111</td>\n",
       "      <td>https://m.media-amazon.com/images/I/719pO3I+ox...</td>\n",
       "      <td>https://www.amazon.com/AutoFocus-Microphone-Ne...</td>\n",
       "      <td>[2 Pack] OMOTON Tempered Glass Screen Protecto...</td>\n",
       "      <td>4.6 out of 5 stars</td>\n",
       "      <td>451</td>\n",
       "      <td>Back to results                     【1080P Ful...</td>\n",
       "      <td>\\nAnne\\n5.0 out of 5 stars\\n\\n  Camera quality...</td>\n",
       "      <td>5 stars represent 77% of rating 4 stars repres...</td>\n",
       "      <td>\\nEasy to install   4.8\\nSheerness   4.7\\nCame...</td>\n",
       "    </tr>\n",
       "  </tbody>\n",
       "</table>\n",
       "</div>"
      ],
      "text/plain": [
       "      id                                         image_urls  \\\n",
       "22    23  https://m.media-amazon.com/images/I/910A6B1Sa4...   \n",
       "101  102  https://m.media-amazon.com/images/I/61YyzKD24d...   \n",
       "63    60  https://m.media-amazon.com/images/I/91K9SyGiyz...   \n",
       "89    90  https://m.media-amazon.com/images/I/91vw9DRl4K...   \n",
       "52    51  https://m.media-amazon.com/images/I/61su-fwFdR...   \n",
       "118  119  https://m.media-amazon.com/images/I/71LZpZrvYb...   \n",
       "110  111  https://m.media-amazon.com/images/I/719pO3I+ox...   \n",
       "\n",
       "                                                  link  \\\n",
       "22   https://www.amazon.com/Toshiba-HDTB420XK3AA-Ca...   \n",
       "101  https://www.amazon.com/AMD-Processor-Wraith-St...   \n",
       "63   https://www.amazon.com/Acer-R240HY-bidx-23-8-I...   \n",
       "89   https://www.amazon.com/Sceptre-DisplayPort-Edg...   \n",
       "52   https://www.amazon.com/Microphone-NexiGo-Compu...   \n",
       "118  https://www.amazon.com/Lenovo-Chromebook-i3-10...   \n",
       "110  https://www.amazon.com/AutoFocus-Microphone-Ne...   \n",
       "\n",
       "                                                 title              rating  \\\n",
       "22   Toshiba (HDTB420XK3AA) Canvio Basics 2TB Porta...  4.7 out of 5 stars   \n",
       "101  AMD Ryzen 5 2600 Processor with Wraith Stealth...  4.8 out of 5 stars   \n",
       "63   Acer R240HY bidx 23.8-Inch IPS HDMI DVI VGA (1...  4.6 out of 5 stars   \n",
       "89   Sceptre Curved 27\" Gaming Monitor up to 185Hz ...  4.7 out of 5 stars   \n",
       "52   1080P Web Camera, HD Webcam with Microphone & ...  4.4 out of 5 stars   \n",
       "118  Plustek Photo Scanner - ephoto Z300, Scan 4x6 ...  4.5 out of 5 stars   \n",
       "110  [2 Pack] OMOTON Tempered Glass Screen Protecto...  4.6 out of 5 stars   \n",
       "\n",
       "    no_of_reviews                                        description  \\\n",
       "22         24,701  Back to results                     1TB2TB4TBP...   \n",
       "101        16,769  Back to results                     VIDEO Proc...   \n",
       "63          9,819  Back to results                     VIDEO 21.5...   \n",
       "89            358  Back to results                     24\" Curved...   \n",
       "52          5,946  Back to results                     VIDEO 【Ful...   \n",
       "118         1,214  Back to results                      Make sure...   \n",
       "110           451  Back to results                     【1080P Ful...   \n",
       "\n",
       "                                              comments  \\\n",
       "22   \\nlibrarian's daughter\\n1.0 out of 5 stars\\n\\n...   \n",
       "101  \\nTiny Giant \\n5.0 out of 5 stars\\n\\n  Lets ma...   \n",
       "63   \\nRayna\\n5.0 out of 5 stars\\n\\n  I bought two ...   \n",
       "89   \\nMaddok\\n5.0 out of 5 stars\\n\\n  I've played ...   \n",
       "52   \\nstephen\\n5.0 out of 5 stars\\n\\n  ok, since C...   \n",
       "118  \\nKingsman\\n5.0 out of 5 stars\\n\\n  Best bang-...   \n",
       "110  \\nAnne\\n5.0 out of 5 stars\\n\\n  Camera quality...   \n",
       "\n",
       "                                   rating_distribution  \\\n",
       "22   5 stars represent 84% of rating 4 stars repres...   \n",
       "101  5 stars represent 88% of rating 4 stars repres...   \n",
       "63   5 stars represent 79% of rating 4 stars repres...   \n",
       "89   5 stars represent 83% of rating 4 stars repres...   \n",
       "52   5 stars represent 65% of rating 4 stars repres...   \n",
       "118  5 stars represent 75% of rating 4 stars repres...   \n",
       "110  5 stars represent 77% of rating 4 stars repres...   \n",
       "\n",
       "                                              features  \n",
       "22   \\nPortability   4.7\\nEasy to install   4.7\\nEa...  \n",
       "101  \\nValue for money   4.8\\nStability   4.7\\nEasy...  \n",
       "63   \\nBrightness   4.4\\nPicture quality   4.4\\nQua...  \n",
       "89   \\nSheerness   4.9\\nThickness   4.8\\nFor gaming...  \n",
       "52   \\nEasy to install   4.6\\nAuto focus   4.3\\nCam...  \n",
       "118  \\nValue for money   4.9\\nQuality of material  ...  \n",
       "110  \\nEasy to install   4.8\\nSheerness   4.7\\nCame...  "
      ]
     },
     "execution_count": 4,
     "metadata": {},
     "output_type": "execute_result"
    }
   ],
   "source": [
    "df.info()\n",
    "df.sample(7)"
   ]
  },
  {
   "cell_type": "markdown",
   "metadata": {},
   "source": [
    "Checking for nulls and duplicates"
   ]
  },
  {
   "cell_type": "code",
   "execution_count": 5,
   "metadata": {},
   "outputs": [
    {
     "data": {
      "text/plain": [
       "id                     0\n",
       "image_urls             0\n",
       "link                   0\n",
       "title                  0\n",
       "rating                 0\n",
       "no_of_reviews          0\n",
       "description            0\n",
       "comments               0\n",
       "rating_distribution    0\n",
       "features               0\n",
       "dtype: int64"
      ]
     },
     "execution_count": 5,
     "metadata": {},
     "output_type": "execute_result"
    }
   ],
   "source": [
    "df.isna().sum()"
   ]
  },
  {
   "cell_type": "code",
   "execution_count": 6,
   "metadata": {},
   "outputs": [
    {
     "data": {
      "text/plain": [
       "0"
      ]
     },
     "execution_count": 6,
     "metadata": {},
     "output_type": "execute_result"
    }
   ],
   "source": [
    "df.duplicated().sum()"
   ]
  },
  {
   "cell_type": "markdown",
   "metadata": {},
   "source": [
    "Check the distribution of values in the `rating` column"
   ]
  },
  {
   "cell_type": "code",
   "execution_count": 7,
   "metadata": {},
   "outputs": [
    {
     "data": {
      "text/plain": [
       "4.7 out of 5 stars    38\n",
       "4.6 out of 5 stars    31\n",
       "4.5 out of 5 stars    28\n",
       "4.8 out of 5 stars    22\n",
       "4.4 out of 5 stars    14\n",
       "4.3 out of 5 stars     3\n",
       "4.9 out of 5 stars     3\n",
       "4.0 out of 5 stars     2\n",
       "4.2 out of 5 stars     2\n",
       "Name: rating, dtype: int64"
      ]
     },
     "execution_count": 7,
     "metadata": {},
     "output_type": "execute_result"
    }
   ],
   "source": [
    "df.rating.value_counts()"
   ]
  },
  {
   "cell_type": "markdown",
   "metadata": {},
   "source": [
    "Check the structure of the `rating distribution`, `features`, `title`, `description`, and `comments` columns"
   ]
  },
  {
   "cell_type": "markdown",
   "metadata": {},
   "source": [
    "See the random row samples of each column"
   ]
  },
  {
   "cell_type": "code",
   "execution_count": 8,
   "metadata": {},
   "outputs": [],
   "source": [
    "# Function to see 3 random rows of a given column\n",
    "import random\n",
    "\n",
    "def see_sample(df, col, num):\n",
    "    min_id = df['id'].min()\n",
    "    max_id = df['id'].max()\n",
    "    for i in range(num):\n",
    "        print(df[col][random.randint(min_id, max_id)], '\\n')"
   ]
  },
  {
   "cell_type": "code",
   "execution_count": 9,
   "metadata": {},
   "outputs": [
    {
     "name": "stdout",
     "output_type": "stream",
     "text": [
      "5 stars represent 63% of rating 4 stars represent 19% of rating 3 stars represent 8% of rating 2 stars represent 3% of rating 1 stars represent 7% of rating \n",
      "\n",
      "5 stars represent 73% of rating 4 stars represent 14% of rating 3 stars represent 5% of rating 2 stars represent 2% of rating 1 stars represent 6% of rating \n",
      "\n",
      "5 stars represent 76% of rating 4 stars represent 13% of rating 3 stars represent 5% of rating 2 stars represent 2% of rating 1 stars represent 5% of rating \n",
      "\n"
     ]
    }
   ],
   "source": [
    "see_sample(df, 'rating_distribution', 3)"
   ]
  },
  {
   "cell_type": "code",
   "execution_count": 10,
   "metadata": {},
   "outputs": [
    {
     "name": "stdout",
     "output_type": "stream",
     "text": [
      "\n",
      "Value for money   5.0\n",
      "Fingerprint reader   4.6\n",
      "Touch Screen   4.4\n",
      "Battery life   4.2\n",
      "Screen quality   4.1\n",
      "Camera quality   3.7 \n",
      "\n",
      "\n",
      "Packaging   4.8\n",
      "Face recognition   4.7\n",
      "Touch Screen   4.7\n",
      "Value for money   4.7\n",
      "Anti-glare   4.4\n",
      "Easy to install   4.4 \n",
      "\n",
      "\n",
      "Durability   4.6\n",
      "Easy to use   4.5\n",
      "Comfort   4.4\n",
      "For gaming   4.3\n",
      "Ergonomic   4.3\n",
      "Quality of material   4.0 \n",
      "\n"
     ]
    }
   ],
   "source": [
    "see_sample(df, 'features', 3)"
   ]
  },
  {
   "cell_type": "code",
   "execution_count": 11,
   "metadata": {},
   "outputs": [
    {
     "name": "stdout",
     "output_type": "stream",
     "text": [
      "Seagate IronWolf 4TB NAS Internal Hard Drive HDD – CMR 3.5 Inch SATA 6Gb/s 5900 RPM 64MB Cache for RAID Network Attached Storage – Frustration Free Packaging (ST4000VNZ008/VN008) \n",
      "\n",
      "Western Digital 1TB WD Blue PC Hard Drive - 7200 RPM Class, SATA 6 Gb/s, , 64 MB Cache, 3.5\" - WD10EZEX \n",
      "\n",
      "OtterBox DEFENDER SERIES Case for iPad 8th & 7th Gen (10.2\" Display - 2020 & 2019 version) - BLACK \n",
      "\n",
      "JETech Screen Protector for iPad Pro 12.9-Inch (2020 and 2018 Model, Edge to Edge Liquid Retina Display), Face ID Compatible, Tempered Glass Film \n",
      "\n",
      "NVIDIA SHIELD Android TV Pro 4K HDR Streaming Media Player; High Performance, Dolby Vision, 3GB RAM, 2x USB, Works with Alexa \n",
      "\n"
     ]
    }
   ],
   "source": [
    "see_sample(df, 'title', 5)"
   ]
  },
  {
   "cell_type": "code",
   "execution_count": 12,
   "metadata": {},
   "outputs": [
    {
     "name": "stdout",
     "output_type": "stream",
     "text": [
      "Back to results                     VIDEO  Make sure this fitsby entering your model number.Long wireless range: Stream and control your music with a reliable connection from up to 15 meters 50-ft, 1 Year warranty.Listen music wireless:Stream your audio entertainment from your smart phone or table.Listen music through your perfect sound system from your smart phone or tablet with perfect sound qualityEasy to setup: Simply pair your smart phone or tablet to the audio adapter with a single button pressSuperior acoustics: Don’t compromise on sound delivers high-quality acousticsWorks with most speakers: Plug the adapter into any A/V receivers and any powered speakers using standard RCA or 3.5mm jacksThis item:Bluetooth Audio Adapter for Music Streaming Sound System, esinkin W29-us Wireless Audio Adapter… $22.95 In Stock.Sold by Esinkin Inc. and ships from Amazon Fulfillment.Monoprice 1.5ft Premium 2 RCA Plug/2 RCA Plug M/M 22AWG Cable - Black $6.84 In Stock.Ships from and sold by Amazon.com.FosPower (3 Feet) 2 RCA M/M Stereo Audio Cable [24K Gold Plated | Copper Core] 2RCA Male to 2RCA… $8.99 In Stock.Sold by FosPower and ships from Amazon Fulfillment. \n",
      "\n",
      "Rate your experience:                        Poor                                                                                                                                                    Rate your experience:                        Great                                                                                                                                                    Reason for poor review:                                        Did not find my model                                                                                        Reason for poor review:                                        Fit information incorrect                                                                                        Reason for poor review:                                        Confusing/difficult to use                                                                                        Reason for poor review:                                        Other                                                         Back to results                      Make sure this fitsby entering your model number.HP 65 ink cartridges work with: HP DeskJet 2622, 2625, 2635, 2636, 2652, 2655, 3720, 3722, 3752, 3755, 3758, 5025, 5055.HP ENVY 5010, 5012, 5020, 5052, 5030, 5032, 5034, 5055. HP AMP 100, 105, 120, 125, 130.Up to 2x more prints with Original HP ink vs refill cartridges.HP 65 ink cartridge yield (approx.) per HP 65 ink cartridge: 120 pages black, 100 pages tri-colorOriginal HP ink cartridges: Genuine ink for your HP printer.What’s in the box: HP 65 ink cartridges (1 Black, 1 Tri-color)Color: Black, Tri-colorChoose an ink replenishment service - Let your printer track usage and have ink delivered before you run out. Either reorder HP Genuine ink cartridges only when you need them through Amazon Dash Replenishment, or save up to 50% by paying for pages printed through HP Instant Ink.This item:HP 65 | 2 Ink Cartridges | Black, Tri-color | N9K01AN, N9K02AN $38.99 Only 5 left in stock - order soon.Sold by Supplies Line and ships from Amazon Fulfillment.HP Printer Paper 8.5 x 11 | 20 lb - 1 ream - 500 Sheets | 92 Bright - Made in USA | FSC Certified… $4.25 In Stock.Ships from and sold by Amazon.com. \n",
      "\n",
      "Back to results                     VIDEO  Make sure this fitsby entering your model number.[FHD 1080P IPS Screen] Lepow USB C 1920*1080 portable monitor delivers a truly immersive viewing experience that lets you enjoy High-Definition entertainment and gaming. The 15.6 inch Full HD IPS screen use eye protection that keeps your eyes from getting tired during prolonged use.[Versatile Digital Connectivity] Mini HDMI & USB C ports design makes this portable gaming monitor more convenient to connect your laptop, smartphone, PC, PS3, PS4, XBOX ONE, or Switch etc. It's ideal for extending your screen or playing games on business trip, travel, or home entertainment.[Stand Cover & Screen Protector] Lepow have added a smart cover and a screen protector to fully protect our monitor. The cover case is made of PU leather to provide excellent protection for the entire monitor and can be folded into different positions to create a stand. The protective film prevents the screen from being scratched.[Slim, Light Weight & Portable] With a slim 0.3-inch profile and just 1.76 pounds, Lepow 15.6 inch portable monitor is ideal for your life and work to make a simple setup on-the-go dual-monitor and mobile presentations.[Dual Speakers & HDR Mode ] 2 built-in speakers efficiently helps display multi-media files especially when listen to music/watch movies/play games. HDR mode support excellent mainstream transmission so that you can enjoy great video transmission in game and other entertainment.This item:Portable Monitor - Lepow 15.6 Inch Full HD 1080P USB Type-C Computer Display IPS Eye Care Screen… $188.98 In Stock.Sold by chterrineUS and ships from Amazon Fulfillment.Rankie Mini HDMI to HDMI Cable, High Speed Supports Ethernet 3D and Audio Return (6 Feet) $8.98 In Stock.Sold by Rankie US and ships from Amazon Fulfillment. \n",
      "\n"
     ]
    }
   ],
   "source": [
    "see_sample(df, 'description', 3)"
   ]
  },
  {
   "cell_type": "code",
   "execution_count": 13,
   "metadata": {},
   "outputs": [
    {
     "name": "stdout",
     "output_type": "stream",
     "text": [
      "\n",
      "tech_dad\n",
      "3.0 out of 5 stars\n",
      "\n",
      "  Purchased to replace a 6 yr old asus 21.5\" led monitor (nothing wrong with the old monitor, just wanted a bigger screen).Currently connected via hdmi -&gt; hdmi. Just ordered a DP -&gt; hdmi to test with. Will update if it affects the review. Let's get to the Pros:* Interior packing seem to cushion the screen well (no visible damage to screen)* Assembly was quick (2 screws to the arm to the back of the screen, and rotate to lock base in place)* Screw cover and screw driver included* Power cable nice and long (i only needed 3 ft, plenty to keep coiled up)* No profile frame is very pretty (so thin)* Colors are very vibrant (kids play a lot of roblox, lots of color variants and looks wonderful)Now onto the cons:* A little dim. No where as bright as the old led monitor (especial during the day)* Video inputs are back facing* Control buttons are on the back of the monitor* Stand is flimsy and rocks a little when using the control buttons to turn on/off the monitorAll in all, the kids are enjoying the bigger monitor, but i am concerned about the brightness and the wobbly stand. I'm about 50/50 on buy another one. We do need another monitor for the 2nd school computer, but I'm not certain this is the one.Edit: The sound is terrible. I usually use headphones but had to use the built in speaker on a pinch. Even @ 100% it is bare audible. Dropping my review by 1 star.\n",
      "\n",
      "\n",
      "Red\n",
      "5.0 out of 5 stars\n",
      "\n",
      "  I was super excited to get these  I picked up 3 in total  upgrading from 1 27\" ips 1080p hp monitor a 26\" vizio 720p tv and an old not so hd monitor.  so this is huge for me. the biggest thing I didn't like was the stands it throws off how they line up just slightly but in my opinion still looks good. I would recommend buying a stand that will hold all 3 monitors  something with full tilt and motion.  the speakers suck but you can plug in headphones to the back of it if you are using it on a console or something .  overall you couldn't ask for much better than this for the price at this size and resolution.Prospicture is greatnice colorcomes with HDMI cables (Nothing fancy but it does have them)the almost non existent frame is nice.-consthe most major con honestly is the stands they come with , they are not adjustable and have a slight tilt forward so they do not stand up straightthe brightness could be higher but its not as bad as some of the other reviews make it out to be in my opinionthe built in speakers are trash no sound depth at all  but honestly very suprising that it has  speakers at this price point  so not much of a con.\n",
      "\n",
      "\n",
      "Richdude\n",
      "4.0 out of 5 stars\n",
      "\n",
      "  We bought this monitor so that we can expand the number of work stations at home since everyone is working from home and kids are distancing learning.The first thing I noticed when we turned it on is that the screen is not very clear. It has a glare free covering in it which is fine but when my daughter brings up pictures for her photo editing, it’s clearly not very clear for graphics. Yes, this is listed as a business monitor but I was thinking maybe that meant the refresh rate is not like a gaming monitor. But when my wife used it for work she noticed right away that it isn’t very clear. The glare free screen kind of takes away the brightness too. One thing I was kind of disappointed in is that there are only HDMI ports. I would think at this point in our technology world all monitors would come with HDMI and DisplayPort. But again, maybe because this isn’t supposed to be a graphics intensive monitor.The last negative I would say about this monitor is that it has a pedestal stand so there is only one leg in the middle. This monitor is big so with one leg, the monitor rocks constantly. Every bump of the table, high intensity clicks of the keyboard, a lot of mouse movement, it made the monitor rock and sway a lot. It just seemed cheap and on the verge of falling down. If you will use a mount then that would solve the problem but it’s just not as good of a monitor that I was hoping for.\n",
      "\n",
      "\n",
      "Brian H\n",
      "5.0 out of 5 stars\n",
      "\n",
      "  Excellent screen at a killer price with inconsequential compromises like a somewhat light/flimsy stand that shouldn't really pose a problem for most people, especially if you plan to mount this on to a dual or triple monitor desk stand as yours truly.  Audio?  Don't care, got my own speakers, plus 90+% of the time I use headphones anyways, but I guess it's a nice plus for backup scenarios.  Screen is plenty bright and even on ECO mode everything looks crisp and vibrant, and that's with the window blinds open just past noon on a sunny day.\n",
      "\n",
      "\n",
      "hltoddd\n",
      "5.0 out of 5 stars\n",
      "\n",
      "  This is a very high quality monitor. I am very pleased with it. wanted to buy a bigger name monitor but for the price , decided to take a chance on this one and I'm glad I did.I ended up mounting it on the wall to free up desk space and it fits in with my space very well. It's actually bigger looking than I thought it would be and the picture is very crisp and clear and bright. I thinking about getting another one o replace an older Samsung 22 inch I have.\n",
      "\n",
      "\n",
      "Anonym\n",
      "3.0 out of 5 stars\n",
      "\n",
      "  Overall I like this monitor, is main purpose (Making an image) is great, it has more black and overall more color than my old ones. I have nothing to say about that, for the price its awesome.Where it goes down is with everything else, sound is poor quality, I had to buy speakers. They are really good when plugged in computer directly or another monitor I have, but when plugged in this monitor, there's a buzzing sound all the time, even if nothing is playing. This is really a big NO for me, I need a decent audio.Then other small things- Buttons are behind de screen which make it hard for me to change input, again I'm using 2 PCs, I need to switch from one to another frequently and this does not make it easy.- Power supply is too big and take 2 slots.If all you care about is the image, it's good. If you care about audio, don't buy.\n",
      "\n",
      "\n",
      "José luis meses morales\n",
      "3.0 out of 5 stars\n",
      "\n",
      "  La calidad de imagen muy bien pero hay unos pixeles un poco apagados.\n",
      "\n",
      " \n",
      "\n"
     ]
    }
   ],
   "source": [
    "see_sample(df, 'comments', 1)"
   ]
  },
  {
   "cell_type": "markdown",
   "metadata": {},
   "source": [
    "### Quality Issues"
   ]
  },
  {
   "cell_type": "markdown",
   "metadata": {},
   "source": [
    "1. `rating` column should only have a rating numerator.\n",
    "2. `rating` column should should be of the float dtype.\n",
    "3. Text in `rating_distribution` column is redundant.\n",
    "4. `no_of_reviews` column should should be of the int dtype.\n",
    "5. `description` text is not just a product description."
   ]
  },
  {
   "cell_type": "markdown",
   "metadata": {},
   "source": [
    "### Tidiness Issues"
   ]
  },
  {
   "cell_type": "markdown",
   "metadata": {},
   "source": [
    "1. The structure of the `features` column is hard to work with.\n",
    "2. The structure of the `comments` column is hard to work with."
   ]
  },
  {
   "cell_type": "markdown",
   "metadata": {},
   "source": [
    "## Cleaning Data"
   ]
  },
  {
   "cell_type": "code",
   "execution_count": 14,
   "metadata": {},
   "outputs": [],
   "source": [
    "# Making copy of the Dataframes\n",
    "df_clean = df.copy()"
   ]
  },
  {
   "cell_type": "markdown",
   "metadata": {},
   "source": [
    "### Fixing Quality Issues"
   ]
  },
  {
   "cell_type": "markdown",
   "metadata": {},
   "source": [
    "#### Quality 1"
   ]
  },
  {
   "cell_type": "markdown",
   "metadata": {},
   "source": [
    "##### Define:\n",
    "`rating` column should only have a rating numerator."
   ]
  },
  {
   "cell_type": "markdown",
   "metadata": {},
   "source": [
    "##### Code:"
   ]
  },
  {
   "cell_type": "code",
   "execution_count": 15,
   "metadata": {},
   "outputs": [],
   "source": [
    "# Only extract the given rating\n",
    "ratings = []\n",
    "for rating in df_clean.rating:\n",
    "    ratings.append(rating[:3])\n",
    "    \n",
    "df_clean.rating = ratings"
   ]
  },
  {
   "cell_type": "markdown",
   "metadata": {},
   "source": [
    "##### Test:"
   ]
  },
  {
   "cell_type": "code",
   "execution_count": 16,
   "metadata": {
    "scrolled": false
   },
   "outputs": [
    {
     "data": {
      "text/plain": [
       "27     4.7\n",
       "15     4.6\n",
       "95     4.8\n",
       "76     4.8\n",
       "132    4.5\n",
       "98     4.5\n",
       "105    4.6\n",
       "99     4.8\n",
       "42     4.7\n",
       "90     4.7\n",
       "17     4.4\n",
       "108    4.8\n",
       "24     4.8\n",
       "28     4.4\n",
       "117    4.6\n",
       "Name: rating, dtype: object"
      ]
     },
     "execution_count": 16,
     "metadata": {},
     "output_type": "execute_result"
    }
   ],
   "source": [
    "df_clean.rating.sample(15)"
   ]
  },
  {
   "cell_type": "markdown",
   "metadata": {},
   "source": [
    "#### Quality 2"
   ]
  },
  {
   "cell_type": "markdown",
   "metadata": {},
   "source": [
    "##### Define:\n",
    "`rating` column should should be of the float dtype."
   ]
  },
  {
   "cell_type": "markdown",
   "metadata": {},
   "source": [
    "##### Code:"
   ]
  },
  {
   "cell_type": "code",
   "execution_count": 17,
   "metadata": {},
   "outputs": [],
   "source": [
    "# Change data type of `rating` column to float\n",
    "df_clean['rating'] = df_clean['rating'].astype(float)"
   ]
  },
  {
   "cell_type": "markdown",
   "metadata": {},
   "source": [
    "##### Test:"
   ]
  },
  {
   "cell_type": "code",
   "execution_count": 18,
   "metadata": {
    "scrolled": true
   },
   "outputs": [
    {
     "data": {
      "text/plain": [
       "dtype('float64')"
      ]
     },
     "execution_count": 18,
     "metadata": {},
     "output_type": "execute_result"
    }
   ],
   "source": [
    "df_clean.rating.dtype"
   ]
  },
  {
   "cell_type": "markdown",
   "metadata": {},
   "source": [
    "#### Quality 3"
   ]
  },
  {
   "cell_type": "markdown",
   "metadata": {},
   "source": [
    "##### Define:\n",
    "Text in `rating_distribution` column is redundant."
   ]
  },
  {
   "cell_type": "markdown",
   "metadata": {},
   "source": [
    "##### Code:"
   ]
  },
  {
   "cell_type": "code",
   "execution_count": 19,
   "metadata": {},
   "outputs": [],
   "source": [
    "# Find each rating's percentage for each rating distribution\n",
    "import re\n",
    "\n",
    "rating_distributions = []\n",
    "for distribution in df_clean.rating_distribution:\n",
    "    ratings = re.findall(r\"(\\d)([^0-9%]*)(\\d+%)\", distribution)\n",
    "\n",
    "    rating_distribution = []\n",
    "    for rating in ratings:\n",
    "        # Separate rating and distribution with a colon only\n",
    "        rating_distribution.append(f'{rating[0]}:{rating[2]}')\n",
    "        \n",
    "    # Join each rating's distributions with bars\n",
    "    new_rating = '|'.join(rating_distribution)\n",
    "    rating_distributions.append(new_rating)"
   ]
  },
  {
   "cell_type": "code",
   "execution_count": 20,
   "metadata": {},
   "outputs": [],
   "source": [
    "# Replace old redundant distributions with new format\n",
    "df_clean.rating_distribution = rating_distributions"
   ]
  },
  {
   "cell_type": "markdown",
   "metadata": {},
   "source": [
    "##### Test:"
   ]
  },
  {
   "cell_type": "code",
   "execution_count": 21,
   "metadata": {
    "scrolled": true
   },
   "outputs": [
    {
     "data": {
      "text/plain": [
       "92     5:81%|4:13%|3:4%|2:1%|1:1%\n",
       "8      5:78%|4:10%|3:5%|2:2%|1:5%\n",
       "67     5:85%|4:10%|3:2%|2:1%|1:3%\n",
       "30     5:82%|4:12%|3:3%|2:1%|1:2%\n",
       "108     5:93%|4:4%|3:1%|2:1%|1:2%\n",
       "Name: rating_distribution, dtype: object"
      ]
     },
     "execution_count": 21,
     "metadata": {},
     "output_type": "execute_result"
    }
   ],
   "source": [
    "# Check the new `rating_distribution` column structure\n",
    "df_clean.rating_distribution.sample(5)"
   ]
  },
  {
   "cell_type": "markdown",
   "metadata": {},
   "source": [
    "#### Quality 4"
   ]
  },
  {
   "cell_type": "markdown",
   "metadata": {},
   "source": [
    "##### Define:\n",
    "`no_of_reviews` column should should be of the int dtype."
   ]
  },
  {
   "cell_type": "markdown",
   "metadata": {},
   "source": [
    "##### Code:"
   ]
  },
  {
   "cell_type": "code",
   "execution_count": 22,
   "metadata": {},
   "outputs": [],
   "source": [
    "# Change each `no_of_reviews` value to be only a number with no separating commas\n",
    "df_clean['no_of_reviews'] = df_clean['no_of_reviews'].apply(lambda num: ''.join(re.findall('\\d+', num)))"
   ]
  },
  {
   "cell_type": "code",
   "execution_count": 23,
   "metadata": {},
   "outputs": [],
   "source": [
    "# Change the data type of `no_of_reviews` to int\n",
    "df_clean['no_of_reviews'] = df_clean['no_of_reviews'].astype(int)"
   ]
  },
  {
   "cell_type": "markdown",
   "metadata": {},
   "source": [
    "##### Test:"
   ]
  },
  {
   "cell_type": "code",
   "execution_count": 24,
   "metadata": {},
   "outputs": [
    {
     "data": {
      "text/plain": [
       "0      36325\n",
       "1       4917\n",
       "2      21366\n",
       "3      41356\n",
       "4      65198\n",
       "       ...  \n",
       "138     2055\n",
       "139    15341\n",
       "140     2553\n",
       "141     2686\n",
       "142    13743\n",
       "Name: no_of_reviews, Length: 143, dtype: int64"
      ]
     },
     "execution_count": 24,
     "metadata": {},
     "output_type": "execute_result"
    }
   ],
   "source": [
    "# Check the new format of values in `no_of_reviews`\n",
    "df_clean.no_of_reviews"
   ]
  },
  {
   "cell_type": "code",
   "execution_count": 25,
   "metadata": {
    "scrolled": true
   },
   "outputs": [
    {
     "data": {
      "text/plain": [
       "dtype('int64')"
      ]
     },
     "execution_count": 25,
     "metadata": {},
     "output_type": "execute_result"
    }
   ],
   "source": [
    "# Check the data type in `no_of_reviews`\n",
    "df_clean.no_of_reviews.dtype"
   ]
  },
  {
   "cell_type": "markdown",
   "metadata": {},
   "source": [
    "#### Quality 5"
   ]
  },
  {
   "cell_type": "markdown",
   "metadata": {},
   "source": [
    "##### Define:\n",
    "`description` text is not just a product description."
   ]
  },
  {
   "cell_type": "markdown",
   "metadata": {},
   "source": [
    "<b style=\"color: red;\">Note: This issue is better solved when scrapping data.</b>"
   ]
  },
  {
   "cell_type": "markdown",
   "metadata": {},
   "source": [
    "##### Code:"
   ]
  },
  {
   "cell_type": "code",
   "execution_count": 26,
   "metadata": {},
   "outputs": [],
   "source": [
    "# Clean `description` from 'Back to results' statement and unnecessary whitespace\n",
    "df_clean['description'] = df_clean['description'].apply(lambda des: re.sub(r'\\bBack to results', '', des).strip())"
   ]
  },
  {
   "cell_type": "markdown",
   "metadata": {},
   "source": [
    "##### Test:"
   ]
  },
  {
   "cell_type": "code",
   "execution_count": 27,
   "metadata": {
    "scrolled": true
   },
   "outputs": [
    {
     "name": "stdout",
     "output_type": "stream",
     "text": [
      "Intel Core i5 10th GenIntel Core i7 9th Gen15.6-inch 144Hz17.3-inch 144HzNotebook onlyWith Accessory BundleWith BackpackWith HeadsetWith Mouse Make sure this fitsby entering your model number.10th Generation Intel Core i5-10300H Processor (Up to 4.5GHz)15\" Full HD Widescreen IPS LED-backlit 144Hz Refresh Display | NVIDIA GeForce GTX 1650 Ti Graphics with 4 GB of dedicated GDDR6 VRAM8GB DDR4 2933MHz Memory | 256GB NVMe SSD (2 x PCIe M.2 Slots - 1 Slot Open for Easy Upgrades) & 1 - Available Hard Drive BayLAN: Killer Ethernet E2600 10/100/1000 Gigabit Ethernet LAN | Wireless: Intel Wireless Wi-Fi 6 AX201 802.11axBacklit Keyboard | Acer CoolBoost Technology with Twin Fans and Quad Exhaust Ports Design \n",
      "\n",
      "Make sure this fitsby entering your model number.The world's best gaming desktop processor, with 12 cores and 24 processing threadsCan deliver elite 100+ FPS performance in the world's most popular gamesCooler not included, high-performance cooler recommended4.8 GHz Max Boost, unlocked for overclocking, 70 MB of cache, DDR-3200 supportFor the advanced Socket AM4 platform, can support PCIe 4.0 on X570 and B550 motherboards \n",
      "\n",
      "3 VIDEOS 3.3ft3.3ft&10ft6.6ft10ft⚡3A Fast Charging and Sync: 3A Fast Charge, Transfer speed can reach 40~60MB/S (480Mbps), JSAUX USB C Cable accelerates the charging speed by delivering 5V/3A safe charging power, 【25% faster】compared with other cables which provide 5V/2.4A output.💗Certified Safety & High Quality Assurance: This USB-C cable has electronic safety certifications that comply with appropriate standards, you have no need to worry about this cable quality at all. Upgraded 3D aluminum connector and exclusive laser welding technology, which can ensure the metal part won't break.💪Enhanced Durability: Strong fiber, the most flexible, powerful and durable material, makes tensile force increased by 200%. Can bear 10000+ bending test. Premium Aluminum housing makes the cable more durable,nylon braided type c cable adds additional durability and tangle free.📢Tips for Fast Charging: 1、Samsung Galaxy S20 /S20 Plus /S20 Ultra /Note 20/10 Plus Support fast charging, but requires a QC / AFC protocol charger with a 18W USB A port （The original charger is a PD fast charging with a 25 W USB C Port） 2、 Pixel uses a \"private charging protocol\" which does not support fast-charging.✅Compatibility List: We provide this 6.6FT 2-Pack Nylon Braided USB Type-C Cable . This Type C Cable can fast charge and sync well compatible with PS5 wireless controller, Samsung Galaxy S20/S20+ Ultra S10 S10E S9 S8 Note 20 10 9 8,Moto Z/Z2, LG G5/G6/V20/V30 and other USB-C devices.This item:USB Type C Cable 3A Fast Charging [2-Pack 6.6ft], JSAUX USB-A to USB-C Charge Braided Cord… $9.99 In Stock.Sold by JS Digital and ships from Amazon Fulfillment.Adaptive Fast Charging Wall Charger Adapter Compatible Samsung Galaxy S6 S7 S8 S9 S10 / Edge/Plus… $9.99 In Stock.Sold by Tenplus and ships from Amazon Fulfillment.Micro USB Cable Android Charger, JSAUX (2-Pack 6.6FT) Micro USB Android Charger Cable Nylon Braided… $11.99 In Stock.Sold by JS Digital and ships from Amazon Fulfillment.This cable is USB-A to USB-C, NOT USB-C to USB-CDo not support iPad Pro 11 and iPad Pro 12.9This cord alone WILL NOT provide you with fast charging alone, you will need a power block rated for fast charging and a phone capable of the same.It will not fit those phones with Micro USB Port and Lightning Port.Below is the list of phones that can be charged at max 3A output current instead of full speed:HUAWEI: Requires 4.5V/5A outputSamsung Galaxy S20 /S20+ /S20 Ultra / Note 10: Requires a  QC / AFC protocol charger with a 18W USB A port （The original charger is a PD fast charging with a 25 W USB C Port） Google Pixel: Only supports the private fast charge protocol of GoogleNintendo Switch: Only supports PD fast charge protocolOne Plus: Only support DASH fast charge protocolIpad pro 2018: Requires a USB C to C cable to fast chargeInternal 21/28AWG thick tinned copper core wire, plus aluminum foil signal shielding layer for faster and more stable chargingUpgraded 3D aluminum connector and exclusive laser welding technology, which to ensure the metal part won't break and also have a tighter connection which fits well even with a protective case on and will never loose connection.With the fastening tape for organization, you can shorten the cable to any length you want and even organize it to a portable size that can put in your handbag or backpack. \n",
      "\n"
     ]
    }
   ],
   "source": [
    "# Check random values from the cleaned `description` column\n",
    "see_sample(df_clean, 'description', 3)"
   ]
  },
  {
   "cell_type": "markdown",
   "metadata": {},
   "source": [
    "<b style=\"color: red;\">Note: There is still an issue of sometimes having <i>Front-End Code</i> within the description.</b>"
   ]
  },
  {
   "cell_type": "markdown",
   "metadata": {},
   "source": [
    "### Fixing Tidiness Issues"
   ]
  },
  {
   "cell_type": "markdown",
   "metadata": {},
   "source": [
    "#### Tidiness 1"
   ]
  },
  {
   "cell_type": "markdown",
   "metadata": {},
   "source": [
    "##### Define:\n",
    "The structure of the `features` column is hard to work with."
   ]
  },
  {
   "cell_type": "markdown",
   "metadata": {},
   "source": [
    "##### Code:"
   ]
  },
  {
   "cell_type": "code",
   "execution_count": 28,
   "metadata": {},
   "outputs": [],
   "source": [
    "# Find each feature's rating for each value in `features' column\n",
    "features = []\n",
    "for unclean_features in df_clean.features:\n",
    "    matching_features = re.findall('(.+)(\\d+.\\d+)', unclean_features)\n",
    "\n",
    "    clean_features = []\n",
    "    for feature in matching_features:\n",
    "        # Separate each feature and its rating with a colon only\n",
    "        clean_features.append(f'{feature[0].strip()}:{feature[1]}')\n",
    "        \n",
    "    # Join each product's features with bars\n",
    "    features.append('|'.join(clean_features))"
   ]
  },
  {
   "cell_type": "code",
   "execution_count": 29,
   "metadata": {},
   "outputs": [],
   "source": [
    "# Replace old `features` structure with the new format\n",
    "df_clean.features = features"
   ]
  },
  {
   "cell_type": "markdown",
   "metadata": {},
   "source": [
    "##### Test:"
   ]
  },
  {
   "cell_type": "code",
   "execution_count": 30,
   "metadata": {
    "scrolled": true
   },
   "outputs": [
    {
     "name": "stdout",
     "output_type": "stream",
     "text": [
      "Easy to install:4.5|Quality of material:4.4|Easy to use:4.4|Durability:4.3|Value for money:4.3|Warmth:4.0 \n",
      "\n",
      "For gaming:4.8|Comfort:4.7|Quality of material:4.7|Sheerness:4.6|Easy to clean:4.6|Value for money:4.4 \n",
      "\n",
      "Camera quality:4.5|Touch Screen:4.3|Voice Recognition:4.3|Accuracy:4.3|Alexa integration:4.2|Value for money:4.1 \n",
      "\n",
      "Easy to install:4.8|Quality of material:4.7|Durability:4.7|For gaming:4.6|WiFi signal:4.6|For working out:4.5 \n",
      "\n",
      "Easy to install:4.7|Storage Capacity:4.6|Packaging:4.6|Versatility:4.6|Value for money:4.6|Durability:4.5 \n",
      "\n"
     ]
    }
   ],
   "source": [
    "# Check the new `features` column structure\n",
    "see_sample(df_clean, 'features', 5)"
   ]
  },
  {
   "cell_type": "markdown",
   "metadata": {},
   "source": [
    "#### Tidiness 2"
   ]
  },
  {
   "cell_type": "markdown",
   "metadata": {},
   "source": [
    "##### Define:\n",
    "The structure of the `comments` column is hard to work with."
   ]
  },
  {
   "cell_type": "markdown",
   "metadata": {},
   "source": [
    "##### Code:"
   ]
  },
  {
   "cell_type": "code",
   "execution_count": 31,
   "metadata": {},
   "outputs": [],
   "source": [
    "# Standardize comments format\n",
    "comments = []\n",
    "for unclean_comments in df_clean.comments:\n",
    "    # Extract each comment for each product\n",
    "    comments_groups = list(filter(lambda x: x != '', unclean_comments.split('\\n\\n\\n')))\n",
    "    \n",
    "    # Extract each commenter's name, rating, and comment\n",
    "    product_comments = []\n",
    "    for group in comments_groups:\n",
    "        # Group each comment's data together\n",
    "        comment_data = list(filter(lambda x: x != '', group.strip().split('\\n')))\n",
    "        # Check if a comment has more fields than it should\n",
    "        if len(comment_data) != 3:\n",
    "            x = len(comment_data)\n",
    "            clean_comment = f'{comment_data[0]}:{comment_data[x-2][:1]}:{comment_data[x-1].strip()}'\n",
    "        else:\n",
    "            clean_comment = f'{comment_data[0]}:{comment_data[1][:1]}:{comment_data[2].strip()}'\n",
    "                    \n",
    "        product_comments.append(clean_comment)\n",
    "    \n",
    "    # Join each product's total comments with bars\n",
    "    comments.append('|'.join(product_comments))"
   ]
  },
  {
   "cell_type": "code",
   "execution_count": 32,
   "metadata": {},
   "outputs": [],
   "source": [
    "# Replace old `comments` structure with the new format\n",
    "df_clean.comments = comments"
   ]
  },
  {
   "cell_type": "markdown",
   "metadata": {},
   "source": [
    "##### Test:"
   ]
  },
  {
   "cell_type": "code",
   "execution_count": 33,
   "metadata": {
    "scrolled": true
   },
   "outputs": [
    {
     "name": "stdout",
     "output_type": "stream",
     "text": [
      "Tiny Giant :5:Lets make this short as possible..Ryzen 5 - 2600 Is:  6 Cores &amp; 12 Threads boost to 3.9 (single core) While  all cores are 3.7GHzIntel i7 - 8700 is:  6 Cores &amp; 12 Threads boost to 4.6 GHz (single core) While all cores are all cores 4.3GHzBut still, you can OC with like $20 after market cooler and turbo all cores to 4.0 GHz instead of 3.7GHzThe cooler came with it, is an ok (reached 75c in stress test)  But in games it's reaching 60cLast Note:AMD not only have super value CPUs..But also have Super value MotherboardsWhy?B450 for example is $70 to $130 but support 1st Ryzen Gen, Second Ryzen Gen, and Third Ryzen Gen (probably even 4th Ryzen Gen)In other other hand, all Intel Motherboards (Z170, Z270, Z370) are supporting 2 Generations onlySo yeah, you Pay like $200 for Ryzen CPU + $100 Mobo  ($300 total)While Intel you pay $350 to $400 for CPU + $150 Mobo  ($500 to $550 total)Hope that clear up your mind xD|Techtesting:5:I upgraded from an AMD FX-8320 to this.  I knew it would be better.  I didn't know how much better though!I built a system around this with a m.2 NVMe PCI SSD, 16GB 3200GB RAM, PNY Nvidia 1060 6GB GTX, and Asus x470 motherboard.This thing is an incredible CPU for the midrange.  VR works extremely well on it, it overclocks easily, and comes with a very good cooler with decent thermal paste so you save $50 or more right there!  Flies through my normal workloads which include web browsing, virtual machines, VR, gaming and file serving.I am not sure you could get a better performer for the money than this CPU.  5+ stars!!|Thomas Miller:4:This was an upgrade from FX6300 CPU. I primarily play WoW and use Lightroom with my photography. I have often stayed a bit behind with performance and have finally caught up! For the first time ever, I have consistently solid framerates in games and a much less laggy photo processing experience. The cooler is fantastic. The quietest cpu fan I've ever had, and the cpu itself stays surprisingly cool (between 40 and 50c). My ONLY point of frustration came from some instability (random, long system freezes) I experienced that took me a while to troubleshoot, first thinking it was probably some sort of memory incompatibility. It ended up being an incompatibility with the Windows 10 Ryzen power plan that was installed. Switched to the regular \"Performance\" plan and its been rock solid ever since. I hope having that tidbit here helps save someone else the hassle.|akiha:5:Upgrading from a 10 year old PC which was a 2.20 Gz Dual-Core HP Pavilion to my first custom PC using this CPU as the center piece. It comes without saying that I was no longer being shackled down by the limitation of my old PC with my work flow and also the games I play multitasking with no issues. It's teamed up with an MSI Radeon RX 560 AERO ITX 4G OC128-bit 4GB graphic card.There's tons of tests on how well this CPU performs with games especially mainstream games that I do not need to go into as I'm more into video stuff so watching YouTube videos in 1080p is something else coming from 480p tho without realizing it I still find myself watching in 480p at times. Old habits. Watching 1080p HEVC videos with no lag is again something else to behold, heck, Ryzen 5 2600 isn't on his final form yet with that stuff. [Edit Oct 2020] Viewing 4K YouTube videos is also no issues either. Exceptions of course is based on your internet speed's capacity to buffer fast. Not sure about watching in 4K HEVC video tho since my monitor is only 1080p.[Edit Oct 25, 2020] Video encoding can take 30 min to 10 hours depending on the length, resolution, and which chroma sampling profile is being used, any filters will add to the encoding time. A 24 min clip with veryslow or placebo settings (with filters) are no problem speed-wise with H.264 10 bit encodes. From either 4:2:0 or 4:4:4 chroma sampling profile finishes it up quick with 18 thread encoding speed! This coming from almost an entire day's worth on my old PC's pitiful 3 threads using the same settings. Regular H.264 8 bit will use 15 threads as its max (if --thread=0 is used) and will obviously be much faster then its 10 bit counterpart. I recommend trying out tesa + subme 11 mode with either profiles if time isn't an issue.Not tested it with HEVC as of yet.[Edit - Oct 25, 2020] A few sample tests using HEVC 4:4:4 720p with veryslow and sea mode settings (no tune) of a 24 min clip took about 2-13 hours depending on the amount of filters being applied (such as heavy-duty filters like Anti-Aliasing) with max 12 numa-pools (it's kinda like --thread in H.264 but not really?) if left at its default.  The profile 8 bit, 10 bit, or 12 bit will either shorten or increase the time, However, the trade of will be higher quality such as more smoother gradients decreasing banding, color format (both at the cost of increased computation during playback) and of course the chroma sampling being used. Be mindful if your target is compatibility tho consult with the x265 documentation if interested especially with the release of HEVC 3.0 (GCC 8.3.0) which brings a number of changes such as the addition of the tune animation.To be noted all of this was done on a single Crucial 8GB DDR4 RAM which rarely hit 100% RAM output doing all of the above while encoding but I may add an additional 8/16 GB RAM in the future especially for any 1080p (and 4K) HEVC encodes, so you may want to increase your RAM if that's your target. Further note, if you watch streaming videos such as YouTube while waiting for your video to finish up be certain not to open so many browser tab. The RAM will increase closer to 100% if you've got just 8 GB, speaking from experience.I purchased this through the OutletPC seller and they were able to help me out on my concerns and questions as a first time CPU buyer though it wasn't the best of help it got the point across regarding the handling of the CPU and the chances of being a root cause when troubleshooting hardware issues getting the PC to boot properly.|Just Dorian:5:Brings the power where its needed and provides a great price compared to others in its category. Id HIGHLY suggest or recommend. Cost to performance is great.|Herb:5:This thing is an absolute BEAST!  6 cores and 12 threads of raw performance.  OC'd to 3.8 GHz easily at 1.29v on the stock cooler and doesn't go over 41 degrees C under load.  I couldn't be happier with the choice I made by buying this processor.|Sebastian Powers:5:Had to update bios 3 times but that's my fault, honestly runs amazing for the same price as a 1600x with slightly better performance and all cores working together to handle the load, fixed most stuttering issues I had with my old CPU and I can now edit 1080p 60fps content without a problem!|Barley:5:I recently sold my old Intel based 4790k system with the intention of upgrading to something a little more future proof, and importantly, faster. After doing a lot of research I decided to be daring and make a move over to the red team! This was for a few reasons. AMD at the moment just represents far better value for money, power for pound. The AM4 platform has also matured to a level where it is robust and reliable, so no longer an unknown quantity as was the case when it first launched. AMD are also promising that the AM4 platform will be around until at least 2020, whereas Intel are rumoured to be dropping socket 1151 after the 9th gen CPU’s are launched in the near future.Red team decided, I researched a number of CPU’s before setting on the Ryzen 6 2600.  I ruled out the 1st gen CPU’s as I wanted newer architecture, so this seemed like the obvious choice.  For the £143 I paid I couldn’t believe I was getting 6 cores, 12 threads and the ability to overclock (big smile).  I had a nagging concern over the 3.4GHz base clock with boost to 3.9GHz, however was happy to be proven wrong.Installation was a breeze.  I opted not to use the bundled Wraith cooler as I had already purchased an AIO watercooler.  With the low 65w TDP this is one cool little CPU.  With my 240mm AIO attached at 100% load in AIDA64 it doesn’t get over 50c!This CPU easily surpassed whatever expectations I had for it.  Despite the lower clock speed single core performance is respectable; however a similar Intel CPU would have the legs on it.  However in multi core applications this CPU just runs away with it.  When I benchmarked this CPU and compared it to my old Intel i7 4790k this CPU is 1% lower in single core tasks, but an astonishing 50% faster in multi core tasks.  Not bad considering the £143 price tag, and me having sold my 4790k for £200.3DMark scores were similarly impressive, and I noted that despite the 3.9GHz boost, coupled with my Asus B450 board the system automatically boosted the CPU to 4.2GHz.  Temperatures on this run peaked at 57c.Overall I wouldn’t hesitate in recommending this CPU to anyone.  It should easily last a few years as it delivered plenty of processing power.  Then come 2020 you can swap this CPU out for a newer faster AMD CPU and carry on enjoying the platform for several years.  Until Intel, where you will have to change the motherboard if you want to upgrade to a processor post 9th generation.System:AMD Ryzen 5 2600Asus ROG Strix B450-F gaming motherboardCoolerMaster ML240L AIO liquid coolerCorsair Vengeance LPX 3200MHz RAM|el último mono🙈:5:2ª generación de procesadores Ryzen® de AMD. Muy buena CPU si tienes un presupuesto ajustado.Tras 8 meses de uso intensivo no podría estar más satisfecho, he esperado un tiempo prudencial para hacer la reseña. Todas las semanas montamos equipos de Gaming, hasta hace unos meses sólo montábamos procesadores INTEL®, pero con la nueva generación de Procesadores Ryzen®, Amd está ganando de nuevo  terreno en el mundo de las CPU. Este es un procesador de gama media con unos resultados más que excelentes.MUY IMPORTANTE: Si te haces con este procesador asegúrate que la placa base que compres sea compatible con la 2ª generación de procesadores RYZEN (las que vienen con el chip X470 ya vienen preparadas, y no tendrás que andar actualizando la bios), aunque en cuanto puedas yo actualizaría la bios de la placa para evitar problemas futuros.Como comento en el título es una opción excelente si no quieres que tu equipo se salga de presupuesto. Tiene un consumo de 65W, y una velocidad base de la CPU es de 3,4 Ghz, llegando hasta los 3,9 Ghz, si quieres hacer un overclocking extremo este no es el procesador adecuado, prueba mejor con un Ryzen 2700X.Cuando monté el equipo quería probar unos componentes nuevos para tener conocimiento en persona de su funcionamiento y poder asesorar a mis clientes en futuras compras. Con el Setup que tengo ahora mismo montado me mueve a 60 FPS en resolución FULLHD (1920x1080) “todos los juegos del mercado” (Fortnite, SW Battleground, SEKIRO, GTA…).Compré este procesador porque cuando monté el equipo no quería pasarme mucho de presupuesto (cosa que finalmente se desmadró), pero 150€ por este procesador era y es un chollo. En un futuro montaré un Ryzen superior ya que adquirí un monstruo de placa para hacer un Overclocking a lo bestia, aquí os dejo la review de la placa base. (en mi opinión mucha placa para este procesador, pero desde siempre la P.B. es el componente al que dedico mayor parte del presupuesto a la hora de montar un equipo, y no he petado una placa en 15 años, procesadores he quemado unos cuantos ;) ):Enlace a placas base compatibles con CPU’s Ryzen de segunda generación:✔️Gama media:|elpichu:5:✔️Gama media/alta:|Antonio:5:CONFIGURACIÓN EQUIPO GAMING GAMA MEDIA:• P.B: MSI X470 Gaming M7/AC• CPU:  RYZEN 2600 3,4Ghz hasta los 3,9 Ghz. Socket AM4• RAM: G-Skill 32Gb 4x8Gb, 3200Mhz.• VGA: Radeon Sapphire RX580 8GB DDR5.• SSD: Samsung EVO 970 M2 NVME 250GB• SSD SATA: x2 Crucial BX200 500GB• Torre: Thermaltake Core P3.• Refrigeración: NZXT KRM22.• Fuente: Tacens Valeo 800W 80+ Silver.Con esa configuración me mueve todos los juegos a 60 FPS estables EN FHD (1920x1080p). Si quieres jugar en ULTRA (4K), esta configuración se te quedará corta, personalmente lo he probado con un simulador de carreras y baja a 20FPS, con mucho lag, ghosting...✌️Un saludo a tod@s.👋 ;)|Rafael M:4:Hace más de 10 años que no compraba un procesador AMD, este fue su año. ¿Por qué lo hice?Hace un año, entablé una máquina con un Intel i7 6700k, para edición de video, desarrollo de software (.NET y JAVA) y juegos (starcraft y BattleField One) con una GTX 1080, la máquina es excelente, rendimiento y prestaciones, Top of the Art. Pero, este año llegó el momento de ensamblar una máquina para la oficina en desarrollo de software y edición de imágenes; la mejor opción sin duda es el Ryzen 5 2600... Tener 12 threads, cuando tienes más de 5 aplicaciones que consumen bastante recursos y que todas te respondan sin ningún problema no tiene precio.En benchmarks generales GeekBench y CineBench, el Risen 5 2600, aplastaba por más de un 40% al i7 de sexta generación, y por la mitad del precio. No tuve problemas de estabilidad y lo tengo con overclock a 4.1 Ghz.Para juegos, definitivamente el i5 ó i7 es mejor, pero si juegas ocasionalmente aún así te recomiendo el Ryzen 5, que eventualmente, los juegos harán mejor uso de más cores y tendrás un micro con una vida más larga. \n",
      "\n",
      "Jaded:5:Heck, dollar for dollar this is the GAMING rig to beat.Item of Note:There IS a 2.5” hard drive caddy/cable with this model. Also the 2nd M.2 slot does show up if you put a NVME in there (not sure about SATA m.2 as I didn’t have one to test). It is standard 80mm size, same as the main slot, and seems to have extra room above/below it so I believe something double sided would fit, as would something with a SMALL heatsink on top (like say the Adata Swordfish one).Screen:Most of the other gaming laptops in the $750-1100 range have dim ~250 nit screens with awful &lt;50% color gamuts. This one, 300nit rated (~330 actual based on reviews) 144hz and 100% srgb. It is striking, you won’t find a screen like this in this price range elsewhere.Power:Then you have a 8c/16t 4800H processor, which netted just under 4700 on Cinebench R20 in Performance Mode. For reference, my desktop running a Ryzen 3700X 8c/16t scores between 4600 and 4800 depending on background software and performance settings.Memory:The ram is ideal, 3200mhz, 16gb, you don’t want any less because that’s the lower limit for gaming and productivity, and you don’t want any more because each 8gb is about 3watts of power consumption. Not sure if it supports 32gb, I can’t see 16gb being the limit but the Lenovo Support responders in Q&amp;A here seem to think it is.Battery.:It would be nice if they had any prebuilt options with the 80wh version, but they don’t, and I took a star off for that. Most of us would gladly pay an extra $50+ for that option. And I don’t feel like waiting 5+ weeks (2 months? 3?) for a custom one just to get it. That being said, with proper settings this 60wh can be sufficient.*Quiet Mode (fn+q until power led turns blue)*Battery Save mode on (click on battery icon, slide all the way to left)*Hybrid Mode on (this is ESSENTIAL, it shuts off the dedicated graphics card when not needed)*In Advanced Power Settings, adjust all of the AMD, Wireless, etc settings to their most ‘battery saving’ optionDoing all that I’m getting over 5 hours browsing the internet, longer if I have the internet open and am mostly working in excel or word (ie: normal school work/reports for office/etc). For instance, editting this review in the Amazon window, 4.1 hours remaining w/ 55% (7.5 hours total est). 7-8 hours watching Youtube @720p in Edge. Brightness at whatever battery saver drops it to when it’s on high to begin with. I intend on trying to swap in an 80wh when the parts are available.Build quality:The fit/finish and overall feel of the unit hits above its price point. The keyboard is exceptional for productivity, aside from the slightly cramped numpad. The touchpad is responsive. The rear I/O ports are great for desktop duty. But lets be real, Lenovo doesn’t exactly have a great reputation when it comes to customer service and turnaround times for repairs. None of the laptop manufacturers do though really, save Apple. My last Lenovo, a Y700, lasted over 5 years. I figure, get it, do some stress testing on the processor/GPU (Cinebench, Furmark), watch some movies and do some white/black backgrounds to check for dead pixels, and cross your fingers. To extend warranty through them is $50/100/175 for 1/2/3 extra years respectively, I personally am planning at least the $50 for an extra year.Heat:There is one drawback, this thing gets hot. I was expecting better thermals as I tested out a Legion 5 with the 4600H + 1650ti combo a while back. I would say this one runs ~5c average hotter across the board, and will spike to 95-100C+ if you’re doing something intense like Cinebench or Flight Sim 2020. In Flight Sim, average CPU temps over a 20 min flight were ~76c, CPU Die avg was ~85C. Temps are lower playing less demanding games, and even normally demanding games like AC Origins CPU avg was low 70’s, so not terrible. I spent some time looking into this, and apparently these hopped up gaming laptops hitting 90-100C is ‘okay’, even if I don’t really like or trust it. Also, the only option I know of that actually runs cooler than this with similar hardware is the Omen 15 AMD, so if temps are a priority may want to check that platform out. The Asus Tuf’s are as hot if not hotter, and the Dell G5 SE is a small portable sun. However, you do get something for this heat, the aforementioned Cinebench scores blow the competition out of the water, I still can’t believe it’s on par with my desktop processor.Final Thoughts:This thing runs warm, looks good (if you like the aesthetic), has a phenomenal spec sheet for the price, and has best in class screen for a non special-order low-mid budget prebuilt. Would recommend, with the one slight caveat regarding heat.|Michelle K.:1:This laptop is good, performance, design, screen and fast.However, something is wrong.First of all, I always check hard disk whenever I buy a laptop since I sometimes experienced receiving used laptop instead of new. It happened to this laptop. I check hard disk and it was turned on 208 times before.It might be program error but as far as I know, they are pretty accurate(crystal disk info) It looks new but might be not. Maybe I am unlucky. I will post another review later after I investigate more.update 1.So, My purchase date and warranty start date are different.Usually, warranty starts when I first install Windows and turn on laptop first time.This laptop had started warranty about more than 1 month ago, it doesn't any make sense to me.I talked about it with Amazon customer service and what they said is 'just return it',So disappointing so far.|amir:1:Edit 1: I was so happy with this laptop and put an amazing review. After 10 days, this vertical line appeared and it's constant through all applications, even in Bios. Meaning this is a hardware defect. Will change my review to one star for poor quality control. I have returned the laptop and Amazon honored 30 day return window. The new units doesn't have this line. Will see if the same problems happens in the next few weeks.............................If you're not willing wait to RTX 3000. This laptop is the best bang for the buck. The build quality is good. Fan is quite and powerful. Love it.I've been using the laptop now for a week. It's much better than what I thought. Super quite when you need it be quite. Powerful when you need it to be powerful. I actually returned the Helios 300, which I bough for 999 as well on a deal. Helios 300 has RTX 2060 which is not so different from 1660 Ti (Don't let them fool you). .With helios noise at idle is just unbearable, Intel heat is ridiculous as well and the build quality doesn't come close Legion 5.  Legion 5 Beats it at all the way. .|Joe Dobbs:5:I've had my laptop now for 2 days now.  I first replaced the 16gb of ram with 32gb (16x2) of Crucial Ballistix 3200 MHz SODIMM DDR4 DRAM as I plan on doing video editing.  You can find it here @ https://smile.amazon.com/gp/product/B083W5ZRJ1/ref=ppx_yo_dt_b_asin_title_o00_s00?ie=UTF8&amp;psc=1.  I suggest updating the Intel Wi-Fi driver as the download and upload speeds didn't meet my expectations.  I had to visit Intel's site to download the driver as the laptop stated I had the latest.  There is a problem with the camera and have submitted an e-ticket with Lenovo to provide a fix.  They are supposed to reply back within 24 hours, but I have yet to hear from them.  :-(  Otherwise, my experience with the laptop has been good.  Boot up is quick. The sound is really decent for a laptop.  As far as gaming, I have only played RBI Baseball 2020 and it looked really good with no lag.  The fans are fairly quiet as they don't drown out the speakers when running.  All programs have booted up quickly and so far I haven't had to reboot due to any program freezing.  All in all, I'm really satisfied.  I will revisit the review if any other problems arise.|user84910:4:EDIT: 3 months in, I am noticing more problems. Not sure if it's the laptop or windows or drivers.- WIFI disconnects randomly. I get disconnected about 2-3 times a day now. Nothing has changed in my set up. I tried resetting the network in windows but didn't help.- Mouse lag, whenever some CPU or integrated graphics work is needed such as opening a video or rendering a game, the mouse lags for about 1 second. It's quite annoying that the cursor just stops moving and then jumps to the destination. When I disable integrated graphics (hybrid mode), it seems to be fine.- I got a blue screen a few days ago. Not sure what's going on. Again, nothing changed in my set up and I didn't install any new software.- Opening VLC player for the first time since I boot the computer takes especially long (like 5 seconds). Subsequent videos takes less than a second.--------------------------------------------------- Original Review -------------------------------------------------Bought this for $1310 CAD and it's amazing. ASUS TUF A15 with the same spec is priced at $1399 CAD and it has poor screen and thermal.Pros:- 144 Hz screen with good color, good response time. Max brightness is pretty bright on a white background but not a dark background- Thin screen bezel makes my laptop smaller than my older 15 inch laptop.- The screen can open 180 degree, not that I use it at all but it's nice to show it off- Web cam has a physical slide cover for good privacy. Little things like this just makes me love my laptop more.- Great hardware for the price- Amazingly powerful CPU. I was able to get 4.6k score with cinebench r20 on performance mode.- GPU is powerful enough for most games. It's more powerful than my GTX 1060-6GB on desktop- SSD is super fast, has an additional SSD or HDD slot which means you can add either a SSD or a HDD.- Build quality is great and solid. Looks very clean and pleasing.- Keyboard looks clean and cap lock buttons have lighting. Back light is very nice. The keys has a slight curve and it's pretty cool.- Fn key covers the most important functionalities like sound level and brightness- Fn+Q is just great for switching performance modes quickly- Speaker is quite loud- Thermal is great, when stressing the CPU, it only goes up to 85 C and never thermal throttle. It cools down very fast once the stress is over. Similarly for the GPU- In the lenovo vantage software, there is a conservation mode which will not charge your battery until it goes below 50% or something. It makes battery last longer if your laptop is plugged in most of the time.Cons:- Screen brightness doesn't seem linear. Most of the time I have to use light level 8+. The levels below 8 just seems too dim. Only the highest 3 levels are usable- Touch pad is not clickable anywhere. Top left and top right is not clickable. As you move up the touch pad, it gets harder to click down.- It was hard to pry open the bottom panel to install a second hard drive. The build quality is too good that it's hard to open.- The 2 USB ports are at the back and it's inconvenient. Most of the time when I plug in my USB, I plug it on the side. But 1 on each side is pretty nice. I would rather have 2 on each side than 2 on the back.- The numpad has small keys. Spacing between keys is a bit big and I need to get used to.- This model doesn't offer RGB keyboard backlight- The function key doesn't allow turning on/off WIFI or bluetooth. It also doesn't allow turning off the screen.- When volume is turned up, you can feel the vibration of the speaker under your hand- The body has some soft rubber covering and that might get sticky in the future- I noticed on balanced mode, the fan still runs with a bit of noise even when the CPU were always below 10%. I would be more happy if it runs quiet until the CPU gets warmer and increase the fan speed more. Basically a manual fan control would be perfect. The ultra quiet mode in the BIOS doesn't seem to work for me.- The SSD and WIFI card area can get quite warm and the fan doesn't really cool it.Will keep updating as I notice the little goods and bads during everyday use.|Tommy Xu:5:Overall a great laptop. After looking around I found the compatible 80wh battery.Item number:L19C4PC1: with regular length connection cableL19M4PC1: with extended length connection cableThese 2 are fully compatible with this model, as long as you can  find one.|SquallMX:5:Después de 1 semana de espera llego mi Legion 5, y estoy altamente satisfecho por la relación calidad/precio, aquí lo mas notable.LO BUENO:- Increíblemente poderosa en el área de CPU, Cinebench R20 da un valor de 4200 en modo normal, y 4500 en modo de alto desempeño.- El SSD es un Samsung PM981a, la versión OEM del 970 EVO, así que vuela, 3500 MB/s de lectura y 2950 MB/s de escritura.- Una pantalla muy superior a las disponibles en el mercado nacional, 144 Hertz, 99% de cobertura RGB y 300 nits de luminosidad.- El desempeño de la GeForce 1660 Ti aunque no rompe ningún record es muy bueno.- El diseño es muy utilitario para una laptop de juegos, nada de colores extravagantes, por lo que se puede usar como computadora de trabajo sin problema.- Se puede actualizar sin problema la RAM, el almacenamiento (hay un puerto vacio para un NVME adicional) y el WiFi.- El teclado es una gozada, en efecto no trae la letra \"Ñ\" pero se puede solucionar instalando \"Inglés - Internacional\" como la distribución del teclado en Windows, estará disponible con Alt+N.- La batería dura 5+ horas una vez activado el modo híbrido.- Poco bloatware, solo el molesto McAfee y Office 360.- La distribución de los puertos USB es muy buena.LO MALO:- No hay USB 3.1 Gen 2, todos los puertos están limitados a 5000 Mbps.- No carga por USB-C, aunque esto ya sería pedirle peras al olmo.- Es un poco difícil acceder al interior para actualizar los componentes.- La cámara es 720p.- No tiene lector de huellas ni Windows Hello.LO QUE HAY QUE SABER:- De fabrica viene configurada para siempre usar la tarjeta nVidia, lo que afecta severamente la bateria, si no vas a jugar siempre cámbiala a modo Híbrido.- El asunto de la garantía puede ser difícil debido a que es un producto importado, aunque usualmente Lenovo es confiable.- Incluye 1 mes de GamePass, solo tienes que iniciar sesión con tu cuenta de Outlook.- Consumo de energía 25w en YouTube 1080p, 90w cuando hay uso extensivo del CPU (110w en modo de Alto Desempeño), y 160-190w cuando se juega un titulo AAA.|Roderick Macdonald:1:Second Update: There really is nothing else in this range at this price.  Since the unit operated fine for the first few days at normal temps and benchmarking, re-ordered and will update this review once I've had some experience with the new unit.Update: Unit started overheating today, even idling it is up over 60 Celsius despite having tons of air flow from the bottom, keeps randomly shutting down as temperature spikes.  Tried updating firmware to no effect.  Returning as I'm still within first 30 days.Like the unit but sadly can't recommend it.Previous Review: Very good unit with 8 core processor and 1660ti.  Handles everything I can throw at it, although it can hit 90 Celsius under full load. Still better than everything else besides the HP Omen for temperatures.  Uses a Samsung SSD rather than the slower and more common SK Hynix SSD in most laptops.Also a very good programming laptop due to a ton of cores, compiling code goes very quickly.One star off do to Amazon shipping US units to Canada, which will likely create warranty issues if they crop up later on.  Warranty only shows 11 months left on Lenovo's own website.|Elmer Quiambao De Leon:5:I took a chance on Lenovo and I’m glad I did! This laptop is great for the price I paid ($1320 +tax CAD). It’s pretty thin for the specs and light as well.The IPS 144Hz screen is fantastic! I have a 144Hz TN Monitor and this laptop’s screen blows it away with the colour vibrancy. It’s not as fast as a TN panel but if you put the screen on Over Drive (from the Lenovo Vantage software), it comes very close.The keyboard is only in white backlight, but I feel like it adds a more refined look as opposed to an RGB lit keyboard. The keys have a nice satisfying feeling when you type on them as well as using it for playing games.As for the sound of the fans, it wasn’t too loud. Of course gaming laptops will have audible fans during full load but it didn’t really bother me. The CPU would reach 91C but then go back down to the low 70s and high 80s. It didn’t thermal throttle at all. As for the 1660 Ti, the hottest it got for me was 70C at about 2 hrs of gaming. Pretty good.And no I’m not an influencer. I bought this with my own money. \n",
      "\n"
     ]
    }
   ],
   "source": [
    "# Check the new `comments` column structure\n",
    "see_sample(df_clean, 'comments', 2)"
   ]
  },
  {
   "cell_type": "markdown",
   "metadata": {},
   "source": [
    "## Storing, Analyzing, and Visualizing Data"
   ]
  },
  {
   "cell_type": "markdown",
   "metadata": {},
   "source": [
    "### Storing Data"
   ]
  },
  {
   "cell_type": "code",
   "execution_count": 34,
   "metadata": {},
   "outputs": [],
   "source": [
    "# Save the the cleaned DataFrames as a database table\n",
    "df_clean.to_sql('master', engine, index=False)"
   ]
  },
  {
   "cell_type": "markdown",
   "metadata": {},
   "source": [
    "### Visualizition"
   ]
  },
  {
   "cell_type": "code",
   "execution_count": 35,
   "metadata": {},
   "outputs": [],
   "source": [
    "import matplotlib.pyplot as plt\n",
    "%matplotlib inline\n",
    "import seaborn as sns"
   ]
  },
  {
   "cell_type": "markdown",
   "metadata": {},
   "source": [
    "Distribution of products' number of reviews."
   ]
  },
  {
   "cell_type": "code",
   "execution_count": 36,
   "metadata": {},
   "outputs": [
    {
     "data": {
      "image/png": "[encoded data removed]",
      "text/plain": [
       "<Figure size 1080x576 with 1 Axes>"
      ]
     },
     "metadata": {
      "needs_background": "light"
     },
     "output_type": "display_data"
    }
   ],
   "source": [
    "# Adjust plot size, and title\n",
    "plt.figure(figsize=(15, 8))\n",
    "plt.title('Distribution of Products\\' Number of Reviews.', fontsize=18)\n",
    "\n",
    "df_clean.no_of_reviews.plot.line()\n",
    "\n",
    "# Labels\n",
    "plt.xlabel('Distribution', fontsize=14);\n",
    "plt.ylabel('Count', fontsize=14);"
   ]
  },
  {
   "cell_type": "markdown",
   "metadata": {},
   "source": [
    "### Analysis"
   ]
  },
  {
   "cell_type": "markdown",
   "metadata": {},
   "source": [
    "What the most common over all rating?"
   ]
  },
  {
   "cell_type": "code",
   "execution_count": 37,
   "metadata": {},
   "outputs": [
    {
     "data": {
      "text/plain": [
       "4.7    38\n",
       "4.6    31\n",
       "4.5    28\n",
       "4.8    22\n",
       "4.4    14\n",
       "4.3     3\n",
       "4.9     3\n",
       "4.2     2\n",
       "4.0     2\n",
       "Name: rating, dtype: int64"
      ]
     },
     "execution_count": 37,
     "metadata": {},
     "output_type": "execute_result"
    }
   ],
   "source": [
    "df_clean.rating.value_counts()"
   ]
  }
 ],
 "metadata": {
  "kernelspec": {
   "display_name": "Python 3",
   "language": "python",
   "name": "python3"
  },
  "language_info": {
   "codemirror_mode": {
    "name": "ipython",
    "version": 3
   },
   "file_extension": ".py",
   "mimetype": "text/x-python",
   "name": "python",
   "nbconvert_exporter": "python",
   "pygments_lexer": "ipython3",
   "version": "3.8.5"
  }
 },
 "nbformat": 4,
 "nbformat_minor": 4
}
